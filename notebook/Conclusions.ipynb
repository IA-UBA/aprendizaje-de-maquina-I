{
 "cells": [
  {
   "cell_type": "markdown",
   "metadata": {},
   "source": [
    "# Conclusiones\n",
    "\n",
    "Partiendo de nuestro modelo base, la Regresion Logistica, y tomando como métrica más importante el `accuracy`, la evaluacion del modelo base fue de: `0.51` (Ver: `./notebook/Models_Evaluation.ipynb`).\n",
    "\n",
    "Luego, probando con otros modelos de clasificación mas complejos, decidimos probar con:\n",
    "\n",
    "1. Support Vector Machine\n",
    "Partiendo de un GridSearch en busqueda de los mejores hiperparámetros, obtuvimos el mejor performance de los modelos evaluados. El accuracy resultante fue de `0.88` tomando en cuenta los siguientes hiperparametros: `'C': 5, 'gamma': 0.1, 'kernel': 'rbf'`\n",
    "\n",
    "2. Random Forest\n",
    "El accuracy resultante fue de `0.67` tomando en cuenta los siguientes hiperparametros: `'max_depth': 40`.\n",
    "\n",
    "3. KNN\n",
    "El accuracy resultante fue de `0.65` tomando en cuenta los siguientes hiperparametros: `'n_neighbors': 20`.\n",
    "\n",
    "Quisieramos resaltar que en nuestra investigación evaluamos otros modelos, sin embargo la mayoria performó muy similar a la Regresión Logística, que tomando en cuenta el accuracy que tiene, podriamos decir que está 'adivinando' la predicción.\n",
    "\n",
    "Presumimos que Support Vector Machine fue el modelo que mejor performance tuvo, ya que en la visualización de embeddings con UMAP, se ve una separación clara, lo que sugiere que existe un espacio en el cual los datos son separables. Como SVM aumenta las dimensiones de los datos para segmentar regiones, suponemos que logra separar mejor los mismos.\n",
    "\n",
    "Al investigar mas sobre la [fuente de los datos](https://www.kaggle.com/datasets/adityakadiwal/water-potability), vimos que bajo el apartado de 'Provenance', nos indica que los datos fueron generador sinteticamente. Esto en parte puede explicar la baja correlación y la asemejanza de las variables a una distribución normal. Mas aún, puede ser la causa de que solo un modelo haya obtenido una performance aceptable.\n",
    "\n",
    "Podria profundizarse este trabajo haciendo selección de features mediante alguna técnica, sin embargo no nos decantamos por esto, porque vimos que no habia mucha correlacion entre las variables."
   ]
  }
 ],
 "metadata": {
  "language_info": {
   "name": "python"
  }
 },
 "nbformat": 4,
 "nbformat_minor": 2
}
